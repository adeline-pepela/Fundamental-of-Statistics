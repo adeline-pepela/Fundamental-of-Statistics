{
 "cells": [
  {
   "cell_type": "markdown",
   "metadata": {},
   "source": [
    "## Activity 1.1"
   ]
  },
  {
   "cell_type": "markdown",
   "metadata": {},
   "source": [
    "### Given Data\n",
    "| Number of litres of petrol purchased | Number of customers |\n",
    "|-------------------------------------|---------------------|\n",
    "| 0 and < 2                           | 15                  |\n",
    "| 2 and < 4                           | 40                  |\n",
    "| 4 and < 6                           | 65                  |\n",
    "| 6 and < 8                           | 40                  |\n",
    "| 8 and < 10                          | 30                  |\n",
    "| 10 and < 12                         | 10                  |"
   ]
  },
  {
   "cell_type": "code",
   "execution_count": null,
   "metadata": {},
   "outputs": [],
   "source": [
    "# Intializing the data\n",
    "customers = [15, 40, 65, 40, 30, 10]\n",
    "range = ['0-2','2-4','4-6','8-10','10-12' ]\n",
    "total_customers = sum(customers)\n",
    "print(total_customers)"
   ]
  },
  {
   "cell_type": "code",
   "execution_count": null,
   "metadata": {},
   "outputs": [],
   "source": []
  }
 ],
 "metadata": {
  "language_info": {
   "name": "python"
  }
 },
 "nbformat": 4,
 "nbformat_minor": 2
}
