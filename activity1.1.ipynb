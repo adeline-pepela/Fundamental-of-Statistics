{
 "cells": [
  {
   "cell_type": "markdown",
   "metadata": {},
   "source": [
    "## Activity 1.1"
   ]
  },
  {
   "cell_type": "markdown",
   "metadata": {},
   "source": [
    "### Given Data\n",
    "| Number of litres of petrol purchased | Number of customers |\n",
    "|-------------------------------------|---------------------|\n",
    "| 0 and < 2                           | 15                  |\n",
    "| 2 and < 4                           | 40                  |\n",
    "| 4 and < 6                           | 65                  |\n",
    "| 6 and < 8                           | 40                  |\n",
    "| 8 and < 10                          | 30                  |\n",
    "| 10 and < 12                         | 10                  |"
   ]
  },
  {
   "cell_type": "code",
   "execution_count": 1,
   "metadata": {},
   "outputs": [
    {
     "name": "stdout",
     "output_type": "stream",
     "text": [
      "200\n"
     ]
    }
   ],
   "source": [
    "# Intializing the data\n",
    "customers = [15, 40, 65, 40, 30, 10]\n",
    "range = ['0-2','2-4','4-6','8-10','10-12' ]\n",
    "total_customers = sum(customers)\n",
    "print(total_customers)"
   ]
  },
  {
   "cell_type": "markdown",
   "metadata": {},
   "source": [
    "### Pie Chart\n",
    "it shows "
   ]
  },
  {
   "cell_type": "code",
   "execution_count": null,
   "metadata": {},
   "outputs": [],
   "source": []
  }
 ],
 "metadata": {
  "kernelspec": {
   "display_name": "Python 3 (ipykernel)",
   "language": "python",
   "name": "python3"
  },
  "language_info": {
   "codemirror_mode": {
    "name": "ipython",
    "version": 3
   },
   "file_extension": ".py",
   "mimetype": "text/x-python",
   "name": "python",
   "nbconvert_exporter": "python",
   "pygments_lexer": "ipython3",
   "version": "3.11.7"
  }
 },
 "nbformat": 4,
 "nbformat_minor": 4
}
